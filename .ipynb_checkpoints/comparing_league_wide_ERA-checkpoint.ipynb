{
 "cells": [
  {
   "cell_type": "code",
   "execution_count": 33,
   "id": "000e1839-1338-4933-839d-dab672fe3268",
   "metadata": {},
   "outputs": [],
   "source": [
    "import polars as pl"
   ]
  },
  {
   "cell_type": "code",
   "execution_count": 34,
   "id": "a9f3ee03-bbdd-4fe0-9700-40deed699db5",
   "metadata": {},
   "outputs": [
    {
     "name": "stdout",
     "output_type": "stream",
     "text": [
      " Volume in drive C is Windows\n",
      " Volume Serial Number is 5E9C-93AA\n",
      "\n",
      " Directory of C:\\Users\\mp5667di\\Desktop\\DH_comparisons\n",
      "\n",
      "09/04/2024  08:01 AM    <DIR>          .\n",
      "09/04/2024  07:35 AM    <DIR>          ..\n",
      "09/03/2024  11:44 AM                66 .gitattributes\n",
      "09/04/2024  07:35 AM    <DIR>          .ipynb_checkpoints\n",
      "09/04/2024  08:01 AM            21,976 comparing_league_wide_ERA.ipynb\n",
      "09/04/2024  07:55 AM    <DIR>          Data\n",
      "09/03/2024  11:44 AM                26 README.md\n",
      "               3 File(s)         22,068 bytes\n",
      "               4 Dir(s)  20,219,375,616 bytes free\n"
     ]
    }
   ],
   "source": [
    "# Checking the current file location\n",
    "\n",
    "!dir"
   ]
  },
  {
   "cell_type": "code",
   "execution_count": 35,
   "id": "49a9bcda-c20f-4717-9c7b-444e0b1a0041",
   "metadata": {},
   "outputs": [
    {
     "data": {
      "text/html": [
       "<div><style>\n",
       ".dataframe > thead > tr > th,\n",
       ".dataframe > tbody > tr > td {\n",
       "  text-align: right;\n",
       "}\n",
       "</style>\n",
       "<small>shape: (5, 30)</small><table border=\"1\" class=\"dataframe\"><thead><tr><th>playerID</th><th>yearID</th><th>stint</th><th>teamID</th><th>lgID</th><th>W</th><th>L</th><th>G</th><th>GS</th><th>CG</th><th>SHO</th><th>SV</th><th>IPouts</th><th>H</th><th>ER</th><th>HR</th><th>BB</th><th>SO</th><th>BAOpp</th><th>ERA</th><th>IBB</th><th>WP</th><th>HBP</th><th>BK</th><th>BFP</th><th>GF</th><th>R</th><th>SH</th><th>SF</th><th>GIDP</th></tr><tr><td>str</td><td>i64</td><td>i64</td><td>str</td><td>str</td><td>i64</td><td>i64</td><td>i64</td><td>i64</td><td>i64</td><td>i64</td><td>i64</td><td>i64</td><td>i64</td><td>i64</td><td>i64</td><td>i64</td><td>i64</td><td>f64</td><td>f64</td><td>i64</td><td>i64</td><td>i64</td><td>i64</td><td>i64</td><td>i64</td><td>i64</td><td>i64</td><td>i64</td><td>i64</td></tr></thead><tbody><tr><td>&quot;aardsda01&quot;</td><td>2004</td><td>1</td><td>&quot;SFN&quot;</td><td>&quot;NL&quot;</td><td>1</td><td>0</td><td>11</td><td>0</td><td>0</td><td>0</td><td>0</td><td>32</td><td>20</td><td>8</td><td>1</td><td>10</td><td>5</td><td>0.417</td><td>6.75</td><td>0</td><td>0</td><td>2</td><td>0</td><td>61</td><td>5</td><td>8</td><td>0</td><td>1</td><td>1</td></tr><tr><td>&quot;aardsda01&quot;</td><td>2006</td><td>1</td><td>&quot;CHN&quot;</td><td>&quot;NL&quot;</td><td>3</td><td>0</td><td>45</td><td>0</td><td>0</td><td>0</td><td>0</td><td>159</td><td>41</td><td>24</td><td>9</td><td>28</td><td>49</td><td>0.214</td><td>4.08</td><td>0</td><td>1</td><td>1</td><td>0</td><td>225</td><td>9</td><td>25</td><td>1</td><td>3</td><td>2</td></tr><tr><td>&quot;aardsda01&quot;</td><td>2007</td><td>1</td><td>&quot;CHA&quot;</td><td>&quot;AL&quot;</td><td>2</td><td>1</td><td>25</td><td>0</td><td>0</td><td>0</td><td>0</td><td>97</td><td>39</td><td>23</td><td>4</td><td>17</td><td>36</td><td>0.3</td><td>6.4</td><td>3</td><td>2</td><td>1</td><td>0</td><td>151</td><td>7</td><td>24</td><td>2</td><td>1</td><td>1</td></tr><tr><td>&quot;aardsda01&quot;</td><td>2008</td><td>1</td><td>&quot;BOS&quot;</td><td>&quot;AL&quot;</td><td>4</td><td>2</td><td>47</td><td>0</td><td>0</td><td>0</td><td>0</td><td>146</td><td>49</td><td>30</td><td>4</td><td>35</td><td>49</td><td>0.268</td><td>5.55</td><td>2</td><td>3</td><td>5</td><td>0</td><td>228</td><td>7</td><td>32</td><td>3</td><td>2</td><td>4</td></tr><tr><td>&quot;aardsda01&quot;</td><td>2009</td><td>1</td><td>&quot;SEA&quot;</td><td>&quot;AL&quot;</td><td>3</td><td>6</td><td>73</td><td>0</td><td>0</td><td>0</td><td>38</td><td>214</td><td>49</td><td>20</td><td>4</td><td>34</td><td>80</td><td>0.19</td><td>2.52</td><td>3</td><td>2</td><td>0</td><td>0</td><td>296</td><td>53</td><td>23</td><td>2</td><td>1</td><td>2</td></tr></tbody></table></div>"
      ],
      "text/plain": [
       "shape: (5, 30)\n",
       "┌───────────┬────────┬───────┬────────┬───┬─────┬─────┬─────┬──────┐\n",
       "│ playerID  ┆ yearID ┆ stint ┆ teamID ┆ … ┆ R   ┆ SH  ┆ SF  ┆ GIDP │\n",
       "│ ---       ┆ ---    ┆ ---   ┆ ---    ┆   ┆ --- ┆ --- ┆ --- ┆ ---  │\n",
       "│ str       ┆ i64    ┆ i64   ┆ str    ┆   ┆ i64 ┆ i64 ┆ i64 ┆ i64  │\n",
       "╞═══════════╪════════╪═══════╪════════╪═══╪═════╪═════╪═════╪══════╡\n",
       "│ aardsda01 ┆ 2004   ┆ 1     ┆ SFN    ┆ … ┆ 8   ┆ 0   ┆ 1   ┆ 1    │\n",
       "│ aardsda01 ┆ 2006   ┆ 1     ┆ CHN    ┆ … ┆ 25  ┆ 1   ┆ 3   ┆ 2    │\n",
       "│ aardsda01 ┆ 2007   ┆ 1     ┆ CHA    ┆ … ┆ 24  ┆ 2   ┆ 1   ┆ 1    │\n",
       "│ aardsda01 ┆ 2008   ┆ 1     ┆ BOS    ┆ … ┆ 32  ┆ 3   ┆ 2   ┆ 4    │\n",
       "│ aardsda01 ┆ 2009   ┆ 1     ┆ SEA    ┆ … ┆ 23  ┆ 2   ┆ 1   ┆ 2    │\n",
       "└───────────┴────────┴───────┴────────┴───┴─────┴─────┴─────┴──────┘"
      ]
     },
     "execution_count": 35,
     "metadata": {},
     "output_type": "execute_result"
    }
   ],
   "source": [
    "pitching = pl.read_csv(\"./Data/lahman_1871-2023_csv/Pitching.csv\")\n",
    "pitching.head()"
   ]
  },
  {
   "cell_type": "code",
   "execution_count": 36,
   "id": "7c5a6254-17f0-4260-8b89-2a68ed069c8c",
   "metadata": {},
   "outputs": [
    {
     "data": {
      "text/plain": [
       "['AA', 'AL', 'FL', 'UA', 'NA', 'PL', 'NL']"
      ]
     },
     "execution_count": 36,
     "metadata": {},
     "output_type": "execute_result"
    }
   ],
   "source": [
    "# There are 7 types of leagues \n",
    "\n",
    "pitching['lgID'].unique().to_list()"
   ]
  },
  {
   "cell_type": "code",
   "execution_count": 37,
   "id": "28676472-66e8-485a-992c-596ed070d867",
   "metadata": {},
   "outputs": [
    {
     "data": {
      "text/html": [
       "<div><style>\n",
       ".dataframe > thead > tr > th,\n",
       ".dataframe > tbody > tr > td {\n",
       "  text-align: right;\n",
       "}\n",
       "</style>\n",
       "<small>shape: (5, 5)</small><table border=\"1\" class=\"dataframe\"><thead><tr><th>yearID</th><th>lgID</th><th>total_runs</th><th>total_outs</th><th>league_ERA</th></tr><tr><td>i64</td><td>str</td><td>i64</td><td>i64</td><td>f64</td></tr></thead><tbody><tr><td>1946</td><td>&quot;NL&quot;</td><td>4202</td><td>33254</td><td>3.41174</td></tr><tr><td>1946</td><td>&quot;AL&quot;</td><td>4306</td><td>33186</td><td>3.503345</td></tr><tr><td>1947</td><td>&quot;NL&quot;</td><td>4956</td><td>32902</td><td>4.066987</td></tr><tr><td>1947</td><td>&quot;AL&quot;</td><td>4560</td><td>33228</td><td>3.705309</td></tr><tr><td>1948</td><td>&quot;NL&quot;</td><td>4814</td><td>32867</td><td>3.954666</td></tr></tbody></table></div>"
      ],
      "text/plain": [
       "shape: (5, 5)\n",
       "┌────────┬──────┬────────────┬────────────┬────────────┐\n",
       "│ yearID ┆ lgID ┆ total_runs ┆ total_outs ┆ league_ERA │\n",
       "│ ---    ┆ ---  ┆ ---        ┆ ---        ┆ ---        │\n",
       "│ i64    ┆ str  ┆ i64        ┆ i64        ┆ f64        │\n",
       "╞════════╪══════╪════════════╪════════════╪════════════╡\n",
       "│ 1946   ┆ NL   ┆ 4202       ┆ 33254      ┆ 3.41174    │\n",
       "│ 1946   ┆ AL   ┆ 4306       ┆ 33186      ┆ 3.503345   │\n",
       "│ 1947   ┆ NL   ┆ 4956       ┆ 32902      ┆ 4.066987   │\n",
       "│ 1947   ┆ AL   ┆ 4560       ┆ 33228      ┆ 3.705309   │\n",
       "│ 1948   ┆ NL   ┆ 4814       ┆ 32867      ┆ 3.954666   │\n",
       "└────────┴──────┴────────────┴────────────┴────────────┘"
      ]
     },
     "execution_count": 37,
     "metadata": {},
     "output_type": "execute_result"
    }
   ],
   "source": [
    "# Part1 - Q5\n",
    "\n",
    "league_ERA = (pitching\n",
    "              .select(['yearID','lgID','ER','IPouts'])\n",
    "              .filter(pl.col('yearID') >= 1946)\n",
    "              .filter(pl.col('lgID').is_in(['AL','NL']))\n",
    "              .groupby(['yearID','lgID'])\n",
    "              .agg(pl.col('ER').sum().alias('total_runs'),\n",
    "                   pl.col('IPouts').sum().alias('total_outs')\n",
    "                  )\n",
    "              .with_columns(league_ERA = (pl.col('total_runs')/pl.col('total_outs'))*27)\n",
    "              .sort(pl.col('yearID'))\n",
    "             )\n",
    "league_ERA.head()"
   ]
  },
  {
   "cell_type": "code",
   "execution_count": 38,
   "id": "a87e9d4f-d2d2-4dca-b5b0-6b00887b05cd",
   "metadata": {},
   "outputs": [
    {
     "data": {
      "text/html": [
       "<div><style>\n",
       ".dataframe > thead > tr > th,\n",
       ".dataframe > tbody > tr > td {\n",
       "  text-align: right;\n",
       "}\n",
       "</style>\n",
       "<small>shape: (5, 6)</small><table border=\"1\" class=\"dataframe\"><thead><tr><th>yearID</th><th>lgID</th><th>total_runs</th><th>total_outs</th><th>league_ERA</th><th>DH_rule</th></tr><tr><td>i64</td><td>str</td><td>i64</td><td>i64</td><td>f64</td><td>str</td></tr></thead><tbody><tr><td>1946</td><td>&quot;NL&quot;</td><td>4202</td><td>33254</td><td>3.41174</td><td>&quot;No&quot;</td></tr><tr><td>1946</td><td>&quot;AL&quot;</td><td>4306</td><td>33186</td><td>3.503345</td><td>&quot;No&quot;</td></tr><tr><td>1947</td><td>&quot;NL&quot;</td><td>4956</td><td>32902</td><td>4.066987</td><td>&quot;No&quot;</td></tr><tr><td>1947</td><td>&quot;AL&quot;</td><td>4560</td><td>33228</td><td>3.705309</td><td>&quot;No&quot;</td></tr><tr><td>1948</td><td>&quot;NL&quot;</td><td>4814</td><td>32867</td><td>3.954666</td><td>&quot;No&quot;</td></tr></tbody></table></div>"
      ],
      "text/plain": [
       "shape: (5, 6)\n",
       "┌────────┬──────┬────────────┬────────────┬────────────┬─────────┐\n",
       "│ yearID ┆ lgID ┆ total_runs ┆ total_outs ┆ league_ERA ┆ DH_rule │\n",
       "│ ---    ┆ ---  ┆ ---        ┆ ---        ┆ ---        ┆ ---     │\n",
       "│ i64    ┆ str  ┆ i64        ┆ i64        ┆ f64        ┆ str     │\n",
       "╞════════╪══════╪════════════╪════════════╪════════════╪═════════╡\n",
       "│ 1946   ┆ NL   ┆ 4202       ┆ 33254      ┆ 3.41174    ┆ No      │\n",
       "│ 1946   ┆ AL   ┆ 4306       ┆ 33186      ┆ 3.503345   ┆ No      │\n",
       "│ 1947   ┆ NL   ┆ 4956       ┆ 32902      ┆ 4.066987   ┆ No      │\n",
       "│ 1947   ┆ AL   ┆ 4560       ┆ 33228      ┆ 3.705309   ┆ No      │\n",
       "│ 1948   ┆ NL   ┆ 4814       ┆ 32867      ┆ 3.954666   ┆ No      │\n",
       "└────────┴──────┴────────────┴────────────┴────────────┴─────────┘"
      ]
     },
     "execution_count": 38,
     "metadata": {},
     "output_type": "execute_result"
    }
   ],
   "source": [
    "# Part1 - Q6\n",
    "\n",
    "DH_rule = (league_ERA\n",
    "             .select(['yearID','lgID','total_runs','total_outs','league_ERA'])\n",
    "             .with_columns(DH_rule = pl.when((pl.col('yearID') < 1973) & (pl.col('lgID') == 'AL'))\n",
    "                                       .then('No')\n",
    "                                       .otherwise('Yes')\n",
    "                          )\n",
    "             .with_columns(DH_rule = pl.when((pl.col('yearID') >= 2022) & (pl.col('yearID') == 2020) & (pl.col('lgID') == 'NL'))\n",
    "                                       .then('Yes')\n",
    "                                       .otherwise('No')\n",
    "                          )\n",
    "            )\n",
    "DH_rule.head()"
   ]
  },
  {
   "cell_type": "code",
   "execution_count": 39,
   "id": "fa7a66fd-b382-4905-9475-1fdeb3085a57",
   "metadata": {
    "scrolled": true
   },
   "outputs": [],
   "source": [
    "DH_rule.write_csv(\"./Data/DH_rule.csv\")"
   ]
  },
  {
   "cell_type": "code",
   "execution_count": 40,
   "id": "a383c455-90ce-4bb9-8a40-cf9d5b0c0f1f",
   "metadata": {},
   "outputs": [
    {
     "data": {
      "text/html": [
       "<div><style>\n",
       ".dataframe > thead > tr > th,\n",
       ".dataframe > tbody > tr > td {\n",
       "  text-align: right;\n",
       "}\n",
       "</style>\n",
       "<small>shape: (5, 24)</small><table border=\"1\" class=\"dataframe\"><thead><tr><th>playerID</th><th>yearID</th><th>stint</th><th>teamID</th><th>lgID</th><th>G</th><th>G_batting</th><th>AB</th><th>R</th><th>H</th><th>2B</th><th>3B</th><th>HR</th><th>RBI</th><th>SB</th><th>CS</th><th>BB</th><th>SO</th><th>IBB</th><th>HBP</th><th>SH</th><th>SF</th><th>GIDP</th><th>G_old</th></tr><tr><td>str</td><td>i64</td><td>i64</td><td>str</td><td>str</td><td>i64</td><td>i64</td><td>i64</td><td>i64</td><td>i64</td><td>i64</td><td>i64</td><td>i64</td><td>i64</td><td>i64</td><td>i64</td><td>i64</td><td>i64</td><td>i64</td><td>i64</td><td>i64</td><td>i64</td><td>i64</td><td>str</td></tr></thead><tbody><tr><td>&quot;aardsda01&quot;</td><td>2004</td><td>1</td><td>&quot;SFN&quot;</td><td>&quot;NL&quot;</td><td>11</td><td>null</td><td>0</td><td>0</td><td>0</td><td>0</td><td>0</td><td>0</td><td>0</td><td>0</td><td>0</td><td>0</td><td>0</td><td>0</td><td>0</td><td>0</td><td>0</td><td>0</td><td>null</td></tr><tr><td>&quot;aardsda01&quot;</td><td>2006</td><td>1</td><td>&quot;CHN&quot;</td><td>&quot;NL&quot;</td><td>45</td><td>null</td><td>2</td><td>0</td><td>0</td><td>0</td><td>0</td><td>0</td><td>0</td><td>0</td><td>0</td><td>0</td><td>0</td><td>0</td><td>0</td><td>1</td><td>0</td><td>0</td><td>null</td></tr><tr><td>&quot;aardsda01&quot;</td><td>2007</td><td>1</td><td>&quot;CHA&quot;</td><td>&quot;AL&quot;</td><td>25</td><td>null</td><td>0</td><td>0</td><td>0</td><td>0</td><td>0</td><td>0</td><td>0</td><td>0</td><td>0</td><td>0</td><td>0</td><td>0</td><td>0</td><td>0</td><td>0</td><td>0</td><td>null</td></tr><tr><td>&quot;aardsda01&quot;</td><td>2008</td><td>1</td><td>&quot;BOS&quot;</td><td>&quot;AL&quot;</td><td>47</td><td>null</td><td>1</td><td>0</td><td>0</td><td>0</td><td>0</td><td>0</td><td>0</td><td>0</td><td>0</td><td>0</td><td>1</td><td>0</td><td>0</td><td>0</td><td>0</td><td>0</td><td>null</td></tr><tr><td>&quot;aardsda01&quot;</td><td>2009</td><td>1</td><td>&quot;SEA&quot;</td><td>&quot;AL&quot;</td><td>73</td><td>null</td><td>0</td><td>0</td><td>0</td><td>0</td><td>0</td><td>0</td><td>0</td><td>0</td><td>0</td><td>0</td><td>0</td><td>0</td><td>0</td><td>0</td><td>0</td><td>0</td><td>null</td></tr></tbody></table></div>"
      ],
      "text/plain": [
       "shape: (5, 24)\n",
       "┌───────────┬────────┬───────┬────────┬───┬─────┬─────┬──────┬───────┐\n",
       "│ playerID  ┆ yearID ┆ stint ┆ teamID ┆ … ┆ SH  ┆ SF  ┆ GIDP ┆ G_old │\n",
       "│ ---       ┆ ---    ┆ ---   ┆ ---    ┆   ┆ --- ┆ --- ┆ ---  ┆ ---   │\n",
       "│ str       ┆ i64    ┆ i64   ┆ str    ┆   ┆ i64 ┆ i64 ┆ i64  ┆ str   │\n",
       "╞═══════════╪════════╪═══════╪════════╪═══╪═════╪═════╪══════╪═══════╡\n",
       "│ aardsda01 ┆ 2004   ┆ 1     ┆ SFN    ┆ … ┆ 0   ┆ 0   ┆ 0    ┆ null  │\n",
       "│ aardsda01 ┆ 2006   ┆ 1     ┆ CHN    ┆ … ┆ 1   ┆ 0   ┆ 0    ┆ null  │\n",
       "│ aardsda01 ┆ 2007   ┆ 1     ┆ CHA    ┆ … ┆ 0   ┆ 0   ┆ 0    ┆ null  │\n",
       "│ aardsda01 ┆ 2008   ┆ 1     ┆ BOS    ┆ … ┆ 0   ┆ 0   ┆ 0    ┆ null  │\n",
       "│ aardsda01 ┆ 2009   ┆ 1     ┆ SEA    ┆ … ┆ 0   ┆ 0   ┆ 0    ┆ null  │\n",
       "└───────────┴────────┴───────┴────────┴───┴─────┴─────┴──────┴───────┘"
      ]
     },
     "execution_count": 40,
     "metadata": {},
     "output_type": "execute_result"
    }
   ],
   "source": [
    "batting = pl.read_csv(\"./Data/lahman_1871-2023_csv/Batting.csv\")\n",
    "batting.head()"
   ]
  },
  {
   "cell_type": "code",
   "execution_count": 41,
   "id": "67014511-c56c-4a1f-ae51-3fefae7e0437",
   "metadata": {},
   "outputs": [
    {
     "data": {
      "text/html": [
       "<div><style>\n",
       ".dataframe > thead > tr > th,\n",
       ".dataframe > tbody > tr > td {\n",
       "  text-align: right;\n",
       "}\n",
       "</style>\n",
       "<small>shape: (5, 5)</small><table border=\"1\" class=\"dataframe\"><thead><tr><th>yearID</th><th>lgID</th><th>numerator</th><th>denominator</th><th>SLG</th></tr><tr><td>i64</td><td>str</td><td>i64</td><td>i64</td><td>f64</td></tr></thead><tbody><tr><td>1946</td><td>&quot;NL&quot;</td><td>17660</td><td>42094</td><td>0.419537</td></tr><tr><td>1946</td><td>&quot;AL&quot;</td><td>18262</td><td>42239</td><td>0.432349</td></tr><tr><td>1947</td><td>&quot;NL&quot;</td><td>19704</td><td>42434</td><td>0.464345</td></tr><tr><td>1947</td><td>&quot;AL&quot;</td><td>18107</td><td>42002</td><td>0.431099</td></tr><tr><td>1948</td><td>&quot;NL&quot;</td><td>19234</td><td>42256</td><td>0.455178</td></tr></tbody></table></div>"
      ],
      "text/plain": [
       "shape: (5, 5)\n",
       "┌────────┬──────┬───────────┬─────────────┬──────────┐\n",
       "│ yearID ┆ lgID ┆ numerator ┆ denominator ┆ SLG      │\n",
       "│ ---    ┆ ---  ┆ ---       ┆ ---         ┆ ---      │\n",
       "│ i64    ┆ str  ┆ i64       ┆ i64         ┆ f64      │\n",
       "╞════════╪══════╪═══════════╪═════════════╪══════════╡\n",
       "│ 1946   ┆ NL   ┆ 17660     ┆ 42094       ┆ 0.419537 │\n",
       "│ 1946   ┆ AL   ┆ 18262     ┆ 42239       ┆ 0.432349 │\n",
       "│ 1947   ┆ NL   ┆ 19704     ┆ 42434       ┆ 0.464345 │\n",
       "│ 1947   ┆ AL   ┆ 18107     ┆ 42002       ┆ 0.431099 │\n",
       "│ 1948   ┆ NL   ┆ 19234     ┆ 42256       ┆ 0.455178 │\n",
       "└────────┴──────┴───────────┴─────────────┴──────────┘"
      ]
     },
     "execution_count": 41,
     "metadata": {},
     "output_type": "execute_result"
    }
   ],
   "source": [
    "# Part2 \n",
    "\n",
    "SLG = (batting\n",
    "      .select(['yearID','lgID','AB','H','2B','3B','HR'])\n",
    "      .filter((pl.col('yearID') >= 1946) &\n",
    "               (pl.col('lgID').is_in(['AL','NL']))\n",
    "             )\n",
    "      .groupby(['yearID','lgID'])\n",
    "      .agg((pl.col('H').sum() + pl.col('2B').sum()*2 + pl.col('3B').sum()*3 + pl.col('HR').sum()*4).alias('numerator'),\n",
    "           (pl.col('AB').sum()).alias('denominator')\n",
    "          )\n",
    "      .with_columns(SLG = pl.col('numerator')/pl.col('denominator'))\n",
    "      .sort(pl.col('yearID'))\n",
    "      )\n",
    "SLG.head()"
   ]
  },
  {
   "cell_type": "code",
   "execution_count": 42,
   "id": "8c76bc73-2018-4d16-8abc-4c9c9b84af0a",
   "metadata": {},
   "outputs": [],
   "source": [
    "SLG.write_csv(\"./data/SLG.csv\")"
   ]
  }
 ],
 "metadata": {
  "kernelspec": {
   "display_name": "Python 3 (ipykernel)",
   "language": "python",
   "name": "python3"
  },
  "language_info": {
   "codemirror_mode": {
    "name": "ipython",
    "version": 3
   },
   "file_extension": ".py",
   "mimetype": "text/x-python",
   "name": "python",
   "nbconvert_exporter": "python",
   "pygments_lexer": "ipython3",
   "version": "3.8.19"
  }
 },
 "nbformat": 4,
 "nbformat_minor": 5
}
